{
 "cells": [
  {
   "cell_type": "markdown",
   "metadata": {},
   "source": [
    "# PTT 網路爬蟲實作練習\n",
    "\n",
    "\n",
    "* 能夠利用 Request + BeatifulSour 撰寫爬蟲，並存放到合適的資料結構\n"
   ]
  },
  {
   "cell_type": "markdown",
   "metadata": {},
   "source": [
    "## 作業目標\n",
    "\n",
    "根據範例 ，完成以下問題：\n",
    "\n",
    "* ① 印出最新文章的「作者」「標題」「時間」\n",
    "* ② 印出第一頁所有文章的「作者」「標題」「時間」\n"
   ]
  },
  {
   "cell_type": "markdown",
   "metadata": {},
   "source": [
    "### ① 印出最新文章的「作者」「標題」「時間」"
   ]
  },
  {
   "cell_type": "code",
   "execution_count": 11,
   "metadata": {},
   "outputs": [
    {
     "name": "stdout",
     "output_type": "stream",
     "text": [
      "[新聞] Tatum:會努力幫助球隊贏球，自己也想入選\n",
      "https://www.ptt.cc/bbs/NBA/M.1576042863.A.B7A.html\n",
      "作者: Muma5566 (木馬56)\n",
      "標題: [新聞] Tatum:會努力幫助球隊贏球，自己也想入選全明星\n",
      "時間: Wed Dec 11 13:40:59 2019\n",
      "[花邊] Nelson談論當年Howard在魔術的\"魔獸人生\"\n",
      "https://www.ptt.cc/bbs/NBA/M.1576043527.A.295.html\n",
      "作者: TheBatman (蝙蝠俠)\n",
      "標題: [花邊] Nelson談論當年Howard在魔術的\"魔獸人生\"\n",
      "時間: Wed Dec 11 13:52:04 2019\n",
      "[新聞] 卡特第1500場出賽 史上第5人\n",
      "https://www.ptt.cc/bbs/NBA/M.1576043743.A.3CB.html\n",
      "作者: LinBaoYan (負酬者聯盟)\n",
      "標題: [新聞] 卡特第1500場出賽 史上第5人\n",
      "時間: Wed Dec 11 13:55:41 2019\n",
      "[花邊] 厄文持續缺賽 錯失激勵獎金12.5萬美元\n",
      "https://www.ptt.cc/bbs/NBA/M.1576046283.A.86E.html\n",
      "作者: thnlkj0665 (灰色地帶)\n",
      "標題: [花邊] 厄文持續缺賽 錯失激勵獎金12.5萬美元\n",
      "時間: Wed Dec 11 14:38:00 2019\n",
      "[花邊] 當湖人主場播放歌手Lizzo歌曲時，本人在場邊直接表演露臀舞\n",
      "https://www.ptt.cc/bbs/NBA/M.1576047559.A.CDC.html\n",
      "作者: kairiyu (E N O U G H  is  enough)\n",
      "標題: [花邊] 當湖人主場播放歌手Lizzo歌曲時，本人在場邊直接表演露臀舞\n",
      "時間: Wed Dec 11 14:59:16 2019\n",
      "[花邊]J.J. Culver 砍下100分\n",
      "https://www.ptt.cc/bbs/NBA/M.1576047599.A.282.html\n",
      "作者: innocent8675 (坤溪戴維斯)\n",
      "標題: [花邊]\n",
      "時間: Wed Dec 11 14:59:57 2019\n",
      "[花邊] KD重申了自己想要擁有一支NBA球隊的願望\n",
      "https://www.ptt.cc/bbs/NBA/M.1576049960.A.8C1.html\n",
      "作者: NSYSUheng (Madara)\n",
      "標題: [花邊] KD重申了自己想要擁有一支NBA球隊的願望\n",
      "時間: Wed Dec 11 15:39:17 2019\n",
      "Re: [花邊] Jimmy Butler的instagram貼文\n",
      "https://www.ptt.cc/bbs/NBA/M.1576052504.A.E45.html\n",
      "作者: tmac4ever ()\n",
      "標題: Re: [花邊] Jimmy Butler的instagram貼文\n",
      "時間: Wed Dec 11 16:21:42 2019\n",
      "[新聞] 三分砲火猛烈 伯坦斯：籃框實在太寬了\n",
      "https://www.ptt.cc/bbs/NBA/M.1576054613.A.FED.html\n",
      "作者: Israfil (贖罪聖音)\n",
      "標題: [新聞] 三分砲火猛烈 伯坦斯：籃框實在太寬了\n",
      "時間: Wed Dec 11 16:56:49 2019\n",
      "[情報] New Balance 為Kawhi架設看板感謝多倫多\n",
      "https://www.ptt.cc/bbs/NBA/M.1576057171.A.4A0.html\n",
      "作者: thnlkj0665 (灰色地帶)\n",
      "標題: [情報] New Balance為Kawhi架設看板感謝多倫多\n",
      "時間: Wed Dec 11 17:39:27 2019\n",
      "[花邊] Tacko Fall：KG是傳奇，見到他對我意義\n",
      "https://www.ptt.cc/bbs/NBA/M.1576058069.A.CB0.html\n",
      "作者: lovea (lovea)\n",
      "標題: [花邊] Tacko Fall：KG是傳奇，見到他對我意義\n",
      "時間: Wed Dec 11 17:54:26 2019\n",
      "[公告] 板規v6.6\n",
      "https://www.ptt.cc/bbs/NBA/M.1558698194.A.1DC.html\n",
      "[公告] 樂透取消及未來不再開啟樂透\n",
      "https://www.ptt.cc/bbs/NBA/M.1561360084.A.52D.html\n",
      "作者: Vedan (味丹)\n",
      "標題: [公告] 樂透取消及未來不再開啟樂透\n",
      "時間: Mon Jun 24 15:08:02 2019\n",
      "[公告] 版主上任相關事項 \n",
      "https://www.ptt.cc/bbs/NBA/M.1571971445.A.8A8.html\n",
      "作者: qazwsx879345 (Rajon Rondo)\n",
      "標題: [公告] 版主上任相關事項\n",
      "時間: Fri Oct 25 10:44:03 2019\n",
      "[情報] SEASON Schedule 賽程 December 19–20\n",
      "https://www.ptt.cc/bbs/NBA/M.1574959564.A.46A.html\n",
      "作者: JerroLi (銀色小刀)\n",
      "標題: [情報] SEASON Schedule 賽程 December 19–20\n",
      "時間: Fri Nov 29 00:46:01 2019\n",
      "[公告]是否禁止basketball top 5文章投票開始 \n",
      "https://www.ptt.cc/bbs/NBA/M.1575820502.A.FE9.html\n",
      "作者: dragon803 (好想去露營啊~)\n",
      "標題: [公告]是否禁止basketball top 5文章投票開始\n",
      "時間: Sun Dec  8 23:55:00 2019\n"
     ]
    }
   ],
   "source": [
    "'''\n",
    "Your Code\n",
    "'''\n",
    "import requests\n",
    "from bs4 import BeautifulSoup\n",
    "\n",
    "url = 'https://www.ptt.cc/bbs/NBA/index.html'\n",
    "r = requests.get(url)\n"
   ]
  },
  {
   "cell_type": "code",
   "execution_count": null,
   "metadata": {},
   "outputs": [],
   "source": [
    "import requests\n",
    "from bs4 import BeautifulSoup\n",
    "\n",
    "url = 'https://www.ptt.cc/bbs/NBA/index.html'\n",
    "r = requests.get(url)\n",
    "\n",
    "soup = BeautifulSoup(r.text, 'html5lib')\n",
    "\n",
    "for d in soup.find_all(class_=\"title\"):\n",
    "    print(d.text.replace('\\t', '').replace('\\n', ''))\n",
    "    try:\n",
    "        r = BeautifulSoup(requests.get('https://www.ptt.cc'+ d.find('a')['href']).text, \"html5lib\")\n",
    "        print('https://www.ptt.cc'+ d.find('a')['href'])\n",
    "        print('作者: ' + r.find_all(class_='article-meta-value')[0].text)\n",
    "        print('標題: ' + r.find_all(class_='article-meta-value')[2].text)\n",
    "        print('時間: ' + r.find_all(class_='article-meta-value')[3].text)\n",
    "    except:\n",
    "        continue\n"
   ]
  },
  {
   "cell_type": "markdown",
   "metadata": {},
   "source": [
    "### ② 印出第一頁所有文章的「作者」「標題」「時間」"
   ]
  },
  {
   "cell_type": "code",
   "execution_count": null,
   "metadata": {},
   "outputs": [],
   "source": [
    "'''\n",
    "Your Code\n",
    "'''"
   ]
  },
  {
   "cell_type": "markdown",
   "metadata": {},
   "source": [
    "### ③ 試著爬爬看其他版的文章"
   ]
  },
  {
   "cell_type": "code",
   "execution_count": null,
   "metadata": {},
   "outputs": [],
   "source": [
    "'''\n",
    "Your Code\n",
    "'''"
   ]
  }
 ],
 "metadata": {
  "kernelspec": {
   "display_name": "Python 3",
   "language": "python",
   "name": "python3"
  },
  "language_info": {
   "codemirror_mode": {
    "name": "ipython",
    "version": 3
   },
   "file_extension": ".py",
   "mimetype": "text/x-python",
   "name": "python",
   "nbconvert_exporter": "python",
   "pygments_lexer": "ipython3",
   "version": "3.7.4"
  }
 },
 "nbformat": 4,
 "nbformat_minor": 2
}
