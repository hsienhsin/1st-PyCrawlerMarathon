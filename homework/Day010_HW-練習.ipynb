{
 "cells": [
  {
   "cell_type": "markdown",
   "metadata": {},
   "source": [
    "# 其他工具：Grab、PyQuery\n",
    "\n",
    "\n",
    "* 利用 Grab 套件的存取 HTML 資源\n",
    "* 利用 PyQuery 套件的解析 HTML 格式\n"
   ]
  },
  {
   "cell_type": "markdown",
   "metadata": {},
   "source": [
    "## 作業目標\n",
    "\n",
    "將之前用 requests + beatifulsoup 實作的方式，改寫成 grab + pyquery，並且比較有哪些地方不同。\n",
    "\n",
    "\n",
    "\n"
   ]
  },
  {
   "cell_type": "markdown",
   "metadata": {},
   "source": [
    "## requests + BeautifulSoup\n"
   ]
  },
  {
   "cell_type": "code",
   "execution_count": 33,
   "metadata": {},
   "outputs": [
    {
     "name": "stdout",
     "output_type": "stream",
     "text": [
      "[<img alt=\"\" class=\"avatar size32\"/>, <img alt=\"\" class=\"avatar size32\"/>, <img alt=\"\" class=\"avatar size32\"/>, <img alt=\"\" src=\"https://pbs.twimg.com/profile_banners/464649933/1448556016/1500x500\"/>, <img alt=\"真島なおみ\" class=\"ProfileAvatar-image\" src=\"https://pbs.twimg.com/profile_images/885544458606989312/K7W-Liat_400x400.jpg\"/>, <img alt=\"真島なおみ\" class=\"ProfileCardMini-avatarImage\" src=\"https://pbs.twimg.com/profile_images/885544458606989312/K7W-Liat_normal.jpg\"/>, <img alt=\"🐰\" aria-label=\"Emoji: Rabbit face\" class=\"Emoji Emoji--forText\" draggable=\"false\" src=\"https://abs.twimg.com/emoji/v2/72x72/1f430.png\" title=\"Rabbit face\"/>, <img alt=\"🎀\" aria-label=\"Emoji: Ribbon\" class=\"Emoji Emoji--forText\" draggable=\"false\" src=\"https://abs.twimg.com/emoji/v2/72x72/1f380.png\" title=\"Ribbon\"/>, <img alt=\"♥\" aria-label=\"Emoji: Heart suit\" class=\"Emoji Emoji--forText\" draggable=\"false\" src=\"https://abs.twimg.com/emoji/v2/72x72/2665.png\" title=\"Heart suit\"/>, <img alt=\"\" class=\"avatar js-action-profile-avatar\" src=\"https://pbs.twimg.com/profile_images/885544458606989312/K7W-Liat_bigger.jpg\"/>, <img alt=\"🏫\" aria-label=\"Emoji: School\" class=\"Emoji Emoji--forText\" draggable=\"false\" src=\"https://abs.twimg.com/emoji/v2/72x72/1f3eb.png\" title=\"School\"/>, <img alt=\"🌸\" aria-label=\"Emoji: Cherry blossom\" class=\"Emoji Emoji--forText\" draggable=\"false\" src=\"https://abs.twimg.com/emoji/v2/72x72/1f338.png\" title=\"Cherry blossom\"/>, <img alt=\"💕\" aria-label=\"Emoji: Two hearts\" class=\"Emoji Emoji--forText\" draggable=\"false\" src=\"https://abs.twimg.com/emoji/v2/72x72/1f495.png\" title=\"Two hearts\"/>, <img alt=\"\" data-aria-label-part=\"\" src=\"https://pbs.twimg.com/media/EMY2XdjUUAAlOys.jpg\" style=\"width: 100%; top: -62px;\"/>, <img alt=\"\" data-aria-label-part=\"\" src=\"https://pbs.twimg.com/media/EMY2XdiUUAAh3go.jpg\" style=\"width: 100%; top: -8px;\"/>, <img class=\"avatar--circular size24\" src=\"https://pbs.twimg.com/profile_images/885544458606989312/K7W-Liat_normal.jpg\"/>, <img alt=\"\" class=\"avatar js-action-profile-avatar\" src=\"https://pbs.twimg.com/profile_images/885544458606989312/K7W-Liat_bigger.jpg\"/>, <img alt=\"\" class=\"avatar js-action-profile-avatar\" src=\"https://pbs.twimg.com/profile_images/885544458606989312/K7W-Liat_bigger.jpg\"/>, <img alt=\"😋\" aria-label=\"Emoji: Face savouring food\" class=\"Emoji Emoji--forText\" draggable=\"false\" src=\"https://abs.twimg.com/emoji/v2/72x72/1f60b.png\" title=\"Face savouring food\"/>, <img alt=\"🍭\" aria-label=\"Emoji: Lollipop\" class=\"Emoji Emoji--forText\" draggable=\"false\" src=\"https://abs.twimg.com/emoji/v2/72x72/1f36d.png\" title=\"Lollipop\"/>, <img alt=\"💕\" aria-label=\"Emoji: Two hearts\" class=\"Emoji Emoji--forText\" draggable=\"false\" src=\"https://abs.twimg.com/emoji/v2/72x72/1f495.png\" title=\"Two hearts\"/>, <img alt=\"\" data-aria-label-part=\"\" src=\"https://pbs.twimg.com/media/EZL5KykUMAI-JEc.jpg\" style=\"width: 100%; top: -41px;\"/>, <img alt=\"\" data-aria-label-part=\"\" src=\"https://pbs.twimg.com/media/EZL5KylU4AIJ4Qh.jpg\" style=\"width: 100%; top: -41px;\"/>, <img alt=\"\" class=\"avatar js-action-profile-avatar\" src=\"https://pbs.twimg.com/profile_images/885544458606989312/K7W-Liat_bigger.jpg\"/>, <img alt=\"\" data-aria-label-part=\"\" src=\"https://pbs.twimg.com/media/EXPm2BnUcAEE9k9.jpg\" style=\"width: 100%; top: -41px;\"/>, <img alt=\"\" data-aria-label-part=\"\" src=\"https://pbs.twimg.com/media/EXPm2DxU4AEmgPV.jpg\" style=\"width: 100%; top: -16px;\"/>, <img alt=\"\" class=\"avatar js-action-profile-avatar\" src=\"https://pbs.twimg.com/profile_images/885544458606989312/K7W-Liat_bigger.jpg\"/>, <img alt=\"🧸\" aria-label=\"Emoji: Teddy bear\" class=\"Emoji Emoji--forText\" draggable=\"false\" src=\"https://abs.twimg.com/emoji/v2/72x72/1f9f8.png\" title=\"Teddy bear\"/>, <img alt=\"♥️\" aria-label=\"Emoji: Heart suit\" class=\"Emoji Emoji--forText\" draggable=\"false\" src=\"https://abs.twimg.com/emoji/v2/72x72/2665.png\" title=\"Heart suit\"/>, <img alt=\"\" class=\"avatar js-action-profile-avatar\" src=\"https://pbs.twimg.com/profile_images/885544458606989312/K7W-Liat_bigger.jpg\"/>, <img alt=\"\" data-aria-label-part=\"\" src=\"https://pbs.twimg.com/media/EY3iI0CUMAA-wlx.jpg\" style=\"width: 100%; top: -126px;\"/>, <img alt=\"\" class=\"avatar js-action-profile-avatar\" src=\"https://pbs.twimg.com/profile_images/885544458606989312/K7W-Liat_bigger.jpg\"/>, <img alt=\"🖤\" aria-label=\"Emoji: Black heart\" class=\"Emoji Emoji--forText\" draggable=\"false\" src=\"https://abs.twimg.com/emoji/v2/72x72/1f5a4.png\" title=\"Black heart\"/>, <img alt=\"💜\" aria-label=\"Emoji: Purple heart\" class=\"Emoji Emoji--forText\" draggable=\"false\" src=\"https://abs.twimg.com/emoji/v2/72x72/1f49c.png\" title=\"Purple heart\"/>, <img alt=\"🏴‍☠️\" aria-label=\"Emoji: Pirate flag\" class=\"Emoji Emoji--forText\" draggable=\"false\" src=\"https://abs.twimg.com/emoji/v2/72x72/1f3f4-200d-2620-fe0f.png\" title=\"Pirate flag\"/>, <img alt=\"\" data-aria-label-part=\"\" src=\"https://pbs.twimg.com/media/EZBdthNUwAEdrDa.jpg\" style=\"width: 100%; top: -41px;\"/>, <img alt=\"\" data-aria-label-part=\"\" src=\"https://pbs.twimg.com/media/EZBdtjmVAAAULY4.jpg\" style=\"width: 100%; top: -0px;\"/>, <img alt=\"\" class=\"avatar js-action-profile-avatar\" src=\"https://pbs.twimg.com/profile_images/885544458606989312/K7W-Liat_bigger.jpg\"/>, <img alt=\"\" class=\"avatar js-action-profile-avatar\" src=\"https://pbs.twimg.com/profile_images/877521071393591296/w15XHGOE_bigger.jpg\"/>, <img alt=\"\" class=\"avatar js-action-profile-avatar\" src=\"https://pbs.twimg.com/profile_images/885544458606989312/K7W-Liat_bigger.jpg\"/>, <img alt=\"💓\" aria-label=\"Emoji: Beating heart\" class=\"Emoji Emoji--forText\" draggable=\"false\" src=\"https://abs.twimg.com/emoji/v2/72x72/1f493.png\" title=\"Beating heart\"/>, <img alt=\"💙\" aria-label=\"Emoji: Blue heart\" class=\"Emoji Emoji--forText\" draggable=\"false\" src=\"https://abs.twimg.com/emoji/v2/72x72/1f499.png\" title=\"Blue heart\"/>, <img alt=\"✨\" aria-label=\"Emoji: Sparkles\" class=\"Emoji Emoji--forText\" draggable=\"false\" src=\"https://abs.twimg.com/emoji/v2/72x72/2728.png\" title=\"Sparkles\"/>, <img alt=\"💭\" aria-label=\"Emoji: Thought balloon\" class=\"Emoji Emoji--forText\" draggable=\"false\" src=\"https://abs.twimg.com/emoji/v2/72x72/1f4ad.png\" title=\"Thought balloon\"/>, <img alt=\"🥰\" aria-label=\"Emoji: Smiling face with 3 hearts\" class=\"Emoji Emoji--forText\" draggable=\"false\" src=\"https://abs.twimg.com/emoji/v2/72x72/1f970.png\" title=\"Smiling face with 3 hearts\"/>, <img alt=\"🍒\" aria-label=\"Emoji: Cherries\" class=\"Emoji Emoji--forText\" draggable=\"false\" src=\"https://abs.twimg.com/emoji/v2/72x72/1f352.png\" title=\"Cherries\"/>, <img alt=\"💕\" aria-label=\"Emoji: Two hearts\" class=\"Emoji Emoji--forText\" draggable=\"false\" src=\"https://abs.twimg.com/emoji/v2/72x72/1f495.png\" title=\"Two hearts\"/>, <img alt=\"\" data-aria-label-part=\"\" src=\"https://pbs.twimg.com/media/EYs4GNdUMAAixOv.jpg\" style=\"width: 100%; top: -41px;\"/>, <img alt=\"\" data-aria-label-part=\"\" src=\"https://pbs.twimg.com/media/EYs4GNbVAAInPnt.jpg\" style=\"width: 100%; top: -0px;\"/>, <img alt=\"\" class=\"avatar js-action-profile-avatar\" src=\"https://pbs.twimg.com/profile_images/885544458606989312/K7W-Liat_bigger.jpg\"/>, <img alt=\"♾\" aria-label=\"Emoji: Infinity\" class=\"Emoji Emoji--forText\" draggable=\"false\" src=\"https://abs.twimg.com/emoji/v2/72x72/267e.png\" title=\"Infinity\"/>, <img alt=\"\" class=\"avatar js-action-profile-avatar\" src=\"https://pbs.twimg.com/profile_images/1006113807536492544/R0xeNouH_bigger.jpg\"/>, <img alt=\"\" class=\"avatar js-action-profile-avatar\" src=\"https://pbs.twimg.com/profile_images/885544458606989312/K7W-Liat_bigger.jpg\"/>, <img alt=\"❤️\" aria-label=\"Emoji: Red heart\" class=\"Emoji Emoji--forText\" draggable=\"false\" src=\"https://abs.twimg.com/emoji/v2/72x72/2764.png\" title=\"Red heart\"/>, <img alt=\"❤️\" aria-label=\"Emoji: Red heart\" class=\"Emoji Emoji--forText\" draggable=\"false\" src=\"https://abs.twimg.com/emoji/v2/72x72/2764.png\" title=\"Red heart\"/>, <img alt=\"💓\" aria-label=\"Emoji: Beating heart\" class=\"Emoji Emoji--forText\" draggable=\"false\" src=\"https://abs.twimg.com/emoji/v2/72x72/1f493.png\" title=\"Beating heart\"/>, <img alt=\"💕\" aria-label=\"Emoji: Two hearts\" class=\"Emoji Emoji--forText\" draggable=\"false\" src=\"https://abs.twimg.com/emoji/v2/72x72/1f495.png\" title=\"Two hearts\"/>, <img alt=\"💋\" aria-label=\"Emoji: Kiss mark\" class=\"Emoji Emoji--forText\" draggable=\"false\" src=\"https://abs.twimg.com/emoji/v2/72x72/1f48b.png\" title=\"Kiss mark\"/>, <img alt=\"\" class=\"avatar js-action-profile-avatar\" src=\"https://pbs.twimg.com/profile_images/885544458606989312/K7W-Liat_bigger.jpg\"/>, <img alt=\"👋\" aria-label=\"Emoji: Waving hand\" class=\"Emoji Emoji--forText\" draggable=\"false\" src=\"https://abs.twimg.com/emoji/v2/72x72/1f44b.png\" title=\"Waving hand\"/>, <img alt=\"🍒\" aria-label=\"Emoji: Cherries\" class=\"Emoji Emoji--forText\" draggable=\"false\" src=\"https://abs.twimg.com/emoji/v2/72x72/1f352.png\" title=\"Cherries\"/>, <img alt=\"\" class=\"avatar js-action-profile-avatar\" src=\"https://pbs.twimg.com/profile_images/1126865667066478592/pHH_fA1D_bigger.jpg\"/>, <img alt=\"✨\" aria-label=\"Emoji: Sparkles\" class=\"Emoji Emoji--forText\" draggable=\"false\" src=\"https://abs.twimg.com/emoji/v2/72x72/2728.png\" title=\"Sparkles\"/>, <img alt=\"\" data-aria-label-part=\"\" src=\"https://pbs.twimg.com/media/EZMUqZFUcAU7AQw.jpg\" style=\"width: 100%; top: -0px;\"/>, <img class=\"avatar--circular size24\" src=\"https://pbs.twimg.com/profile_images/1126865667066478592/pHH_fA1D_normal.jpg\"/>, <img alt=\"\" class=\"avatar js-action-profile-avatar\" src=\"https://pbs.twimg.com/profile_images/885544458606989312/K7W-Liat_bigger.jpg\"/>, <img alt=\"😋\" aria-label=\"Emoji: Face savouring food\" class=\"Emoji Emoji--forText\" draggable=\"false\" src=\"https://abs.twimg.com/emoji/v2/72x72/1f60b.png\" title=\"Face savouring food\"/>, <img alt=\"🍭\" aria-label=\"Emoji: Lollipop\" class=\"Emoji Emoji--forText\" draggable=\"false\" src=\"https://abs.twimg.com/emoji/v2/72x72/1f36d.png\" title=\"Lollipop\"/>, <img alt=\"💕\" aria-label=\"Emoji: Two hearts\" class=\"Emoji Emoji--forText\" draggable=\"false\" src=\"https://abs.twimg.com/emoji/v2/72x72/1f495.png\" title=\"Two hearts\"/>, <img alt=\"\" data-aria-label-part=\"\" src=\"https://pbs.twimg.com/media/EZL5KykUMAI-JEc.jpg\" style=\"width: 100%; top: -41px;\"/>, <img alt=\"\" data-aria-label-part=\"\" src=\"https://pbs.twimg.com/media/EZL5KylU4AIJ4Qh.jpg\" style=\"width: 100%; top: -41px;\"/>, <img alt=\"\" class=\"avatar js-action-profile-avatar\" src=\"https://pbs.twimg.com/profile_images/1134993993425489921/H6oe-DcM_bigger.jpg\"/>, <img alt=\"👍\" aria-label=\"Emoji: Thumbs up\" class=\"Emoji Emoji--forText\" draggable=\"false\" src=\"https://abs.twimg.com/emoji/v2/72x72/1f44d.png\" title=\"Thumbs up\"/>, <img alt=\"\" data-aria-label-part=\"\" src=\"https://pbs.twimg.com/media/EZLVaJoUYAAV26K.jpg\" style=\"width: 100%; top: -0px;\"/>, <img alt=\"\" data-aria-label-part=\"\" src=\"https://pbs.twimg.com/media/EZLVaJpUEAUOPP5.jpg\" style=\"width: 100%; top: -11px;\"/>, <img alt=\"\" data-aria-label-part=\"\" src=\"https://pbs.twimg.com/media/EZLVaJzVcAE0QYx.jpg\" style=\"width: 100%; top: -41px;\"/>, <img alt=\"\" class=\"avatar js-action-profile-avatar\" src=\"https://pbs.twimg.com/profile_images/885544458606989312/K7W-Liat_bigger.jpg\"/>, <img alt=\"🧏🏻‍♀️\" aria-label=\"Emoji: Deaf woman (light skin tone)\" class=\"Emoji Emoji--forText\" draggable=\"false\" src=\"https://abs.twimg.com/emoji/v2/72x72/1f9cf-1f3fb-200d-2640-fe0f.png\" title=\"Deaf woman (light skin tone)\"/>, <img alt=\"💓\" aria-label=\"Emoji: Beating heart\" class=\"Emoji Emoji--forText\" draggable=\"false\" src=\"https://abs.twimg.com/emoji/v2/72x72/1f493.png\" title=\"Beating heart\"/>, <img alt=\"\" data-aria-label-part=\"\" src=\"https://pbs.twimg.com/media/EYinCJnU4AAET8X.jpg\" style=\"width: 100%; top: -41px;\"/>, <img alt=\"\" data-aria-label-part=\"\" src=\"https://pbs.twimg.com/media/EYinCKDUMAAaKRk.jpg\" style=\"width: 100%; top: -28px;\"/>, <img alt=\"\" class=\"avatar js-action-profile-avatar\" src=\"https://pbs.twimg.com/profile_images/1266022105507704833/_reFikdU_bigger.jpg\"/>, <img alt=\"\" data-aria-label-part=\"\" src=\"https://pbs.twimg.com/media/EZHUG8ZUMAM4Q7M.jpg\" style=\"width: 100%; top: -19px;\"/>, <img alt=\"\" data-aria-label-part=\"\" src=\"https://pbs.twimg.com/media/EZHUIsgVcAEmzT9.jpg\" style=\"width: 100%; top: -20px;\"/>, <img alt=\"\" data-aria-label-part=\"\" src=\"https://pbs.twimg.com/media/EZHUOo1UcAAIM0C.jpg\" style=\"width: 100%; top: -0px;\"/>, <img alt=\"\" data-aria-label-part=\"\" src=\"https://pbs.twimg.com/media/EZHUQ6QUYAUQ3yw.jpg\" style=\"width: 100%; top: -0px;\"/>, <img alt=\"\" class=\"avatar js-action-profile-avatar\" src=\"https://pbs.twimg.com/profile_images/885544458606989312/K7W-Liat_bigger.jpg\"/>, <img alt=\"🥺\" aria-label=\"Emoji: Pleading face\" class=\"Emoji Emoji--forText\" draggable=\"false\" src=\"https://abs.twimg.com/emoji/v2/72x72/1f97a.png\" title=\"Pleading face\"/>, <img alt=\"💭\" aria-label=\"Emoji: Thought balloon\" class=\"Emoji Emoji--forText\" draggable=\"false\" src=\"https://abs.twimg.com/emoji/v2/72x72/1f4ad.png\" title=\"Thought balloon\"/>, <img alt=\"✨\" aria-label=\"Emoji: Sparkles\" class=\"Emoji Emoji--forText\" draggable=\"false\" src=\"https://abs.twimg.com/emoji/v2/72x72/2728.png\" title=\"Sparkles\"/>, <img alt=\"🙏\" aria-label=\"Emoji: Folded hands\" class=\"Emoji Emoji--forText\" draggable=\"false\" src=\"https://abs.twimg.com/emoji/v2/72x72/1f64f.png\" title=\"Folded hands\"/>, <img alt=\"💫\" aria-label=\"Emoji: Dizzy symbol\" class=\"Emoji Emoji--forText\" draggable=\"false\" src=\"https://abs.twimg.com/emoji/v2/72x72/1f4ab.png\" title=\"Dizzy symbol\"/>, <img alt=\"\" class=\"avatar js-action-profile-avatar\" src=\"https://pbs.twimg.com/profile_images/885544458606989312/K7W-Liat_bigger.jpg\"/>, <img alt=\"🖤\" aria-label=\"Emoji: Black heart\" class=\"Emoji Emoji--forText\" draggable=\"false\" src=\"https://abs.twimg.com/emoji/v2/72x72/1f5a4.png\" title=\"Black heart\"/>, <img alt=\"🏴‍☠️\" aria-label=\"Emoji: Pirate flag\" class=\"Emoji Emoji--forText\" draggable=\"false\" src=\"https://abs.twimg.com/emoji/v2/72x72/1f3f4-200d-2620-fe0f.png\" title=\"Pirate flag\"/>, <img alt=\"\" class=\"avatar size32\"/>, <img alt=\"\" class=\"avatar size32\"/>, <img alt=\"\" class=\"avatar size32\"/>]\n"
     ]
    }
   ],
   "source": [
    "'''\n",
    "Your Code\n",
    "'''\n",
    "import requests\n",
    "from bs4 import BeautifulSoup\n",
    "url = \"https://twitter.com/naomi_majima\"\n",
    "r = requests.get(url)\n",
    "soup = BeautifulSoup(r.text, 'lxml')\n",
    "\n",
    "soup.title.text\n",
    "list= soup.find_all(\"img\")\n",
    "print(list)"
   ]
  },
  {
   "cell_type": "code",
   "execution_count": 46,
   "metadata": {},
   "outputs": [
    {
     "name": "stdout",
     "output_type": "stream",
     "text": [
      "None\n",
      "None\n",
      "None\n",
      "None\n",
      "None\n",
      "None\n",
      "None\n",
      "None\n",
      "None\n",
      "None\n",
      "None\n",
      "None\n",
      "None\n",
      "None\n",
      "None\n",
      "None\n",
      "None\n",
      "None\n",
      "None\n",
      "None\n",
      "None\n",
      "None\n",
      "None\n",
      "None\n",
      "None\n",
      "None\n",
      "None\n",
      "None\n",
      "None\n",
      "None\n",
      "None\n",
      "None\n",
      "None\n",
      "None\n",
      "None\n",
      "None\n",
      "None\n",
      "None\n",
      "None\n",
      "None\n",
      "None\n",
      "None\n",
      "None\n",
      "None\n",
      "None\n",
      "None\n",
      "None\n",
      "None\n",
      "None\n",
      "None\n",
      "None\n",
      "None\n",
      "None\n",
      "None\n",
      "None\n",
      "None\n",
      "None\n",
      "None\n",
      "None\n",
      "None\n",
      "None\n",
      "None\n",
      "None\n",
      "None\n",
      "None\n",
      "None\n",
      "None\n",
      "None\n",
      "None\n",
      "None\n",
      "None\n",
      "None\n",
      "None\n",
      "None\n",
      "None\n",
      "None\n",
      "None\n",
      "None\n",
      "None\n",
      "None\n",
      "None\n",
      "None\n",
      "None\n",
      "None\n",
      "None\n",
      "None\n",
      "None\n",
      "None\n",
      "None\n",
      "None\n",
      "None\n",
      "None\n",
      "None\n",
      "None\n",
      "None\n",
      "None\n",
      "None\n",
      "None\n"
     ]
    }
   ],
   "source": [
    "for i in list:\n",
    "    #print(i)\n",
    "    print(i.find(class_='avatar'))"
   ]
  },
  {
   "cell_type": "code",
   "execution_count": null,
   "metadata": {},
   "outputs": [],
   "source": []
  },
  {
   "cell_type": "code",
   "execution_count": 12,
   "metadata": {},
   "outputs": [
    {
     "name": "stdout",
     "output_type": "stream",
     "text": [
      "#timeline\n",
      "https://help.twitter.com/using-twitter/twitter-issues\n",
      "/\n",
      "/about\n"
     ]
    },
    {
     "ename": "KeyError",
     "evalue": "'href'",
     "output_type": "error",
     "traceback": [
      "\u001b[1;31m---------------------------------------------------------------------------\u001b[0m",
      "\u001b[1;31mKeyError\u001b[0m                                  Traceback (most recent call last)",
      "\u001b[1;32m<ipython-input-12-d35d24d82304>\u001b[0m in \u001b[0;36m<module>\u001b[1;34m\u001b[0m\n\u001b[0;32m      1\u001b[0m \u001b[0mimg_tag\u001b[0m \u001b[1;33m=\u001b[0m \u001b[0msoup\u001b[0m\u001b[1;33m.\u001b[0m\u001b[0mfind_all\u001b[0m\u001b[1;33m(\u001b[0m\u001b[1;34m\"a\"\u001b[0m\u001b[1;33m)\u001b[0m\u001b[1;33m\u001b[0m\u001b[1;33m\u001b[0m\u001b[0m\n\u001b[0;32m      2\u001b[0m \u001b[1;32mfor\u001b[0m \u001b[0mi\u001b[0m \u001b[1;32min\u001b[0m \u001b[0mimg_tag\u001b[0m\u001b[1;33m:\u001b[0m\u001b[1;33m\u001b[0m\u001b[1;33m\u001b[0m\u001b[0m\n\u001b[1;32m----> 3\u001b[1;33m     \u001b[1;32mif\u001b[0m\u001b[1;33m(\u001b[0m\u001b[0mi\u001b[0m\u001b[1;33m[\u001b[0m\u001b[1;34m'href'\u001b[0m\u001b[1;33m]\u001b[0m \u001b[1;33m!=\u001b[0m \u001b[1;34m''\u001b[0m\u001b[1;33m)\u001b[0m\u001b[1;33m:\u001b[0m\u001b[1;33m\u001b[0m\u001b[1;33m\u001b[0m\u001b[0m\n\u001b[0m\u001b[0;32m      4\u001b[0m         \u001b[0mprint\u001b[0m\u001b[1;33m(\u001b[0m\u001b[0mi\u001b[0m\u001b[1;33m[\u001b[0m\u001b[1;34m'href'\u001b[0m\u001b[1;33m]\u001b[0m\u001b[1;33m)\u001b[0m\u001b[1;33m\u001b[0m\u001b[1;33m\u001b[0m\u001b[0m\n",
      "\u001b[1;32mE:\\ProgramData\\Anaconda3\\lib\\site-packages\\bs4\\element.py\u001b[0m in \u001b[0;36m__getitem__\u001b[1;34m(self, key)\u001b[0m\n\u001b[0;32m    969\u001b[0m         \"\"\"tag[key] returns the value of the 'key' attribute for the tag,\n\u001b[0;32m    970\u001b[0m         and throws an exception if it's not there.\"\"\"\n\u001b[1;32m--> 971\u001b[1;33m         \u001b[1;32mreturn\u001b[0m \u001b[0mself\u001b[0m\u001b[1;33m.\u001b[0m\u001b[0mattrs\u001b[0m\u001b[1;33m[\u001b[0m\u001b[0mkey\u001b[0m\u001b[1;33m]\u001b[0m\u001b[1;33m\u001b[0m\u001b[1;33m\u001b[0m\u001b[0m\n\u001b[0m\u001b[0;32m    972\u001b[0m \u001b[1;33m\u001b[0m\u001b[0m\n\u001b[0;32m    973\u001b[0m     \u001b[1;32mdef\u001b[0m \u001b[0m__iter__\u001b[0m\u001b[1;33m(\u001b[0m\u001b[0mself\u001b[0m\u001b[1;33m)\u001b[0m\u001b[1;33m:\u001b[0m\u001b[1;33m\u001b[0m\u001b[1;33m\u001b[0m\u001b[0m\n",
      "\u001b[1;31mKeyError\u001b[0m: 'href'"
     ]
    }
   ],
   "source": [
    "img_tag = soup.find_all(\"a\")\n",
    "for i in img_tag:\n",
    "    if(i['href'] != ''):\n",
    "        print(i['href'])"
   ]
  },
  {
   "cell_type": "markdown",
   "metadata": {},
   "source": [
    "## Grab + PyQuery"
   ]
  },
  {
   "cell_type": "code",
   "execution_count": 2,
   "metadata": {
    "scrolled": false
   },
   "outputs": [
    {
     "data": {
      "text/plain": [
       "'\\nYour Code\\n'"
      ]
     },
     "execution_count": 2,
     "metadata": {},
     "output_type": "execute_result"
    }
   ],
   "source": [
    "'''\n",
    "Your Code\n",
    "'''"
   ]
  },
  {
   "cell_type": "code",
   "execution_count": null,
   "metadata": {},
   "outputs": [],
   "source": []
  }
 ],
 "metadata": {
  "kernelspec": {
   "display_name": "Python 3",
   "language": "python",
   "name": "python3"
  },
  "language_info": {
   "codemirror_mode": {
    "name": "ipython",
    "version": 3
   },
   "file_extension": ".py",
   "mimetype": "text/x-python",
   "name": "python",
   "nbconvert_exporter": "python",
   "pygments_lexer": "ipython3",
   "version": "3.7.4"
  }
 },
 "nbformat": 4,
 "nbformat_minor": 2
}
