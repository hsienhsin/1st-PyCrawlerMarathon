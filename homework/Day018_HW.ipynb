{
 "cells": [
  {
   "cell_type": "markdown",
   "metadata": {},
   "source": [
    "# 瀏覽器開發者工具介紹\n",
    "\n",
    "\n",
    "* 知道瀏覽器的開發者工具\n",
    "* 能夠使用瀏覽器的開發者工具觀察資料\n"
   ]
  },
  {
   "cell_type": "markdown",
   "metadata": {},
   "source": [
    "## 作業目標\n",
    "\n",
    "利用開發者工具去尋找「 https://www.zhihu.com/explore 」和「 http://aicoin.cn 」網站的 HTTP 網址，以及他所帶的 Headers 分別是哪些，試著用 request 去發送有沒有帶 Headers 的差異。\n"
   ]
  },
  {
   "cell_type": "markdown",
   "metadata": {},
   "source": [
    "### 1. https://www.zhihu.com/explore "
   ]
  },
  {
   "cell_type": "code",
   "execution_count": 1,
   "metadata": {
    "scrolled": true
   },
   "outputs": [
    {
     "name": "stdout",
     "output_type": "stream",
     "text": [
      "<html>\r\n",
      "<head><title>400 Bad Request</title></head>\r\n",
      "<body bgcolor=\"white\">\r\n",
      "<center><h1>400 Bad Request</h1></center>\r\n",
      "<hr><center>openresty</center>\r\n",
      "</body>\r\n",
      "</html>\r\n",
      "\n"
     ]
    }
   ],
   "source": [
    "import requests\n",
    "url = 'https://www.zhihu.com/explore'\n",
    "r = requests.get(url)\n",
    "r.encoding = 'utf-8'\n",
    "print(r.text)"
   ]
  },
  {
   "cell_type": "markdown",
   "metadata": {},
   "source": [
    "### 利用查看開發者工具觀察 Headers\n",
    "\n",
    "```\n",
    "'''\n",
    "放上截圖\n",
    "'''\n",
    "```"
   ]
  },
  {
   "cell_type": "code",
   "execution_count": 2,
   "metadata": {},
   "outputs": [
    {
     "name": "stdout",
     "output_type": "stream",
     "text": [
      "<!doctype html>\n",
      "<html lang=\"zh\" data-hairline=\"true\" data-theme=\"light\"><head><meta charSet=\"utf-8\"/><title data-react-helmet=\"true\">知乎 - 有问题，上知乎</title><meta name=\"viewport\" content=\"width=device-width,initial-scale=1,maximum-scale=1\"/><meta name=\"renderer\" content=\"webkit\"/><meta name=\"force-rendering\" content=\"webkit\"/><meta http-equiv=\"X-UA-Compatible\" content=\"IE=edge,chrome=1\"/><meta name=\"google-site-verification\" content=\"FTeR0c8arOPKh8c5DYh_9uu98_zJbaWw53J-Sch9MTg\"/><meta name=\"description\" property=\"og:description\" content=\"有问题，上知乎。知乎，可信赖的问答社区，以让每个人高效获得可信赖的解答为使命。知乎凭借认真、专业和友善的社区氛围，结构化\n"
     ]
    }
   ],
   "source": [
    "import requests\n",
    "url = 'http://www.zhihu.com'\n",
    "\n",
    "headers = {\n",
    "    'user-agent': 'Mozilla/5.0 (Macintosh; Intel Mac OS X 10_15_2) AppleWebKit/537.36 (KHTML, like Gecko) Chrome/79.0.3945.88 Safari/537.36'\n",
    "}\n",
    "\n",
    "r = requests.get(url, headers=headers)\n",
    "\n",
    "r.encoding = 'utf-8'\n",
    "print(r.text[0:600])"
   ]
  },
  {
   "cell_type": "markdown",
   "metadata": {},
   "source": [
    "### 2. http://aicoin.cn"
   ]
  },
  {
   "cell_type": "code",
   "execution_count": 3,
   "metadata": {},
   "outputs": [
    {
     "name": "stdout",
     "output_type": "stream",
     "text": [
      "<!DOCTYPE html><html style=\"height:100%;width:100%\"><head><meta http-equiv=\"Content-Type\" content=\"text/html; charset=utf-8\" /><meta http-equiv=\"Server\" content=\"CloudWAF\" /><title id=\"title\">访问被拦截！</title><script>function bindall() {var requestid = \"30-31-23-20200601152820-01d79a10\";if(requestid==null || requestid == \"\"){return;}document.getElementById(\"d\").innerText = requestid;}</script></head><body onload=\"bindall()\" style=\"height:100%;width:100%;margin:0px;font-family:Microsoft yahei\"><div><style type=\"text/css\">\t.button{float:right;margin-right:2rem;text-decoration:none;background:white;color:#e94d4c;padding: 5px 15px 5px 15px;font-size:1rem;font-family: 微软雅黑,宋体,Arial,Helvetica,Verdana,sans-serif;font-weight:bold;border-radius:0rem;border: none;-webkit-transition:all linear 0.30s;-moz-transition:all linear 0.30s;}.button:hover{text-decoration:none;background:#e94d4c;color:#f2f2f2;}</style><input type=\"button\" class=\"button\" onclick=\"changeLanguageZh()\" value=\"中文\"/><input type=\"button\" class=\"button\"  onclick=\"changeLanguageEn()\" value=\"English\"/></div><div style=\"min-height:13.125rem;height:17%;width:100%\"><div style=\"margin-top:3.75rem;margin-left:18.4375rem;height:52.38;width:83.04%;\"><svg xmlns=\"http://www.w3.org/2000/svg\" style=\"width: 3.125rem;height: 3.125rem\" viewBox=\"0 0 50 50\"><path fill=\"#e84e4c\" d=\"M25,0A25,25,0,1,0,50,25,25,25,0,0,0,25,0Zm1.6,37.16H22.85V33.41H26.6Zm0-6.63H22.85L22.35,13H27.1Z\"/></svg><font style=\"font-family:MicrosoftYaHei;font-size:4.375rem;color:#e94d4c;margin-left: 0.75rem;font-weight: bold;\">418</font></div><div style=\"margin-left:18.4375rem;height:47.62%;width:83.04%;\"><font id=\"a\" style=\"font-family:MicrosoftYaHei;font-size:1.875rem;color:#999999;word-wrap:break-word;\">您的请求疑似攻击行为！</font><p style=\"font-family:MicrosoftYaHei;font-size:0.9rem;color:#999999;word-wrap:break-word;\"><span id=\"c\">事件ID：</span><span style=\"color:#499df2\" id=\"d\">False alarm ID</p></div></div><div style=\"height:15.625rem;width:100%;min-width:105rem;\"><div style=\"margin-left:18.4375rem;float:left;width:50rem\"><p id=\"b\" style=\"margin-top:10px\">如果您是站长，您可以前往WAF控制台进行误报屏蔽设置，让您的访问不再被拦截</p></div></div></body><script>function changeLanguageZh() {document.getElementById(\"title\").innerHTML = \"访问被拦截！\";document.getElementById(\"a\").innerHTML = \"您的请求疑似攻击行为！\";document.getElementById(\"b\").innerHTML = \"如果您是站长，您可以前往WAF控制台进行误报屏蔽设置，让您的访问不再被拦截\";document.getElementById(\"c\").innerHTML = \"事件ID：\";}function changeLanguageEn() {document.getElementById(\"title\").innerHTML = \"The access is blocked.\";document.getElementById(\"a\").innerHTML = \"Sorry, your request has been intercepted because it appears to be an attack.\";document.getElementById(\"b\").innerHTML = \"If you are the webmaster, configure related parameters on the WAF console to allow your requests.\";document.getElementById(\"c\").innerHTML = \"Event ID:\";}var language = navigator.language || navigator.browserLanguage;if (language.indexOf('zh') > -1) {changeLanguageZh();} else if (language.indexOf('en') > -1) {changeLanguageEn();} else{changeLanguageZh();}</script></html>\n",
      "\n"
     ]
    }
   ],
   "source": [
    "import requests\n",
    "\n",
    "url = 'http://aicoin.cn/'\n",
    "r = requests.get(url)\n",
    "r.encoding = 'utf-8'\n",
    "print(r.text)"
   ]
  },
  {
   "cell_type": "markdown",
   "metadata": {},
   "source": [
    "### 利用查看開發者工具觀察 Headers\n",
    "\n",
    "```\n",
    "'''\n",
    "放上截圖\n",
    "'''\n",
    "```"
   ]
  },
  {
   "cell_type": "code",
   "execution_count": 9,
   "metadata": {},
   "outputs": [
    {
     "name": "stdout",
     "output_type": "stream",
     "text": [
      "<!DOCTYPE html><html style=\"height:100%;width:100%\"><head><meta http-equiv=\"Content-Type\" content=\"text/html; charset=utf-8\" /><meta http-equiv=\"Server\" content=\"CloudWAF\" /><title id=\"title\">未找到</title></head><body style=\"height:100%;width:100%;margin:0px;font-family:Microsoft yahei\"><div><style type=\"text/css\">\t.button{float:right;margin-right:2rem;text-decoration:none;background:white;color:#e94d4c;padding: 5px 15px 5px 15px;font-size:1rem;font-family: 微软雅黑,宋体,Arial,Helvetica,Verdana,sans-serif;font-weight:bold;border-radius:0rem;border: none;-webkit-transition:all linear 0.30s;-moz-transit\n"
     ]
    }
   ],
   "source": [
    "import requests\n",
    "url = 'http://aicoin.cn/'\n",
    "\n",
    "headers = {\n",
    "    'Accept': 'text/html,application/xhtml+xml,application/xml;q=0.9,image/webp,image/apng,*/*;q=0.8,application/signed-exchange;v=b3;q=0.9',\n",
    "    'Accept-Encoding': 'gzip, deflate',\n",
    "    'Accept-Language': 'zh-TW,zh;q=0.9,en-US;q=0.8,en;q=0.7',\n",
    "    'Connection': 'keep-alive',\n",
    "    'Host': 'aicoin.cn',\n",
    "    'Upgrade-Insecure-Requests': '1',\n",
    "    'User-Agent': 'Mozilla/5.0 (Macintosh; Intel Mac OS X 10_15_2) AppleWebKit/537.36 (KHTML, like Gecko) Chrome/79.0.3945.88 Safari/537.36'\n",
    "}\n",
    "\n",
    "r = requests.get(url, headers=headers)\n",
    "r.encoding='utf-8'\n",
    "print(r.text[0:600])"
   ]
  },
  {
   "cell_type": "code",
   "execution_count": 24,
   "metadata": {},
   "outputs": [
    {
     "name": "stdout",
     "output_type": "stream",
     "text": [
      "<!DOCTYPE html><html lang=\"zh\"><head><meta charSet=\"utf-8\" class=\"next-head\"/><meta name=\"viewport\" content=\"width=device-width, initial-scale=1\" class=\"jsx-1021118270 next-head\"/><meta name=\"description\" content=\"AICoin拥有全面而优质的区块链资源，提供实时行情、专业K线、数据分析、资产管理等专业服务，更高效地提供有价值的信息，提升资产管理的效率，成为行情数据分析的领跑者。\" class=\"jsx-1021118270 next-head\"/><link rel=\"canonical\" href=\"https://www.aicoin.cn?lang=zh\" class=\"jsx-1021118270 next-head\"/><title class=\"jsx-1021118270 next-head\">AICoin - 为价值 · 更高效</title><link rel=\"preload\" href=\"https://assets-www.aicoin.net.cn/beta-v20/_next/static/K_W3fBZUGgfScGmpe1reU/pages/new-homepage.js\" as=\"script\"/><link rel=\"preload\" href=\"https://assets-www.aicoin.net.cn/beta-v20/_next/static/K_W3fBZUGgfScGmpe1reU/pages/_app.js\" as=\"script\"/><link rel=\"preload\" href=\"https://assets-www.aicoin.net.cn/beta-v20/_next/static/K_W3fBZUGgfScGmpe1reU/pages/_error.js\" as=\"script\"/><link rel=\"preload\" href=\"https://assets-www.aicoin.net.cn/beta-v20/_next/static/runtime/webpack-a30459a925a718cb7ef2.js\" as=\"script\"/><link rel=\"preload\" href=\"https://assets-www.aicoin.net.cn/beta-v20/_next/static/chunks/commons.d6565fbfecdca9bde718.js\" as=\"script\"/><link rel=\"preload\" href=\"https://assets-www.aicoin.net.cn/beta-v20/_next/static/chunks/styles.be6fcdf266aa09938056.js\" as=\"script\"/><link rel=\"preload\" href=\"https://assets-www.aicoin.net.cn/beta-v20/_next/static/runtime/main-6a75f2c492fd14afd547.js\" as=\"script\"/><link rel=\"stylesheet\" href=\"https://assets-www.aicoin.net.cn/beta-v20/_next/static/css/styles.f3eeacd4.chunk.css\"/><style id=\"__jsx-1021118270\">@font-face{font-family:PangMenZhengDao-Cu;font-weight:normal;font-display:swap;src:url(https://assets-www.aicoin.net.cn/beta-v20/static/fonts/PangMenZhengDao-Cu.ttf);}\n",
      "@font-face{font-family:DIN-Bold;font-display:swap;src:url(https://assets-www.aicoin.net.cn/beta-v20/static/fonts/DIN/DIN-bold.woff2) format(\"woff2\");}\n",
      "@font-face{font-family:DIN-Medium;font-display:swap;src:url(https://assets-www.aicoin.net.cn/beta-v20/static/fonts/DIN/DIN-Medium.woff2) format(\"woff2\");}\n",
      "@font-face{font-family:DIN-Regular;font-display:swap;src:url(https://assets-www.aicoin.net.cn/beta-v20/static/fonts/DIN/DIN-Regular.woff2) format(\"woff2\");}</style><style id=\"__jsx-2152025134\">.layout.jsx-2152025134{font-family:\"PingFang SC\",\"Microsoft YaHei\",\"Helvetica Neue\",Helvetica,Arial,\"Hiragino Sans GB\",\"Heiti SC\",\"WenQuanYi Micro Hei\",sans-serif;display:-webkit-box;display:-webkit-flex;display:-ms-flexbox;display:flex;-webkit-flex-direction:column;-ms-flex-direction:column;flex-direction:column;padding-top:80px;min-height:calc(100vh - 80px);background-color:#f2f4f7;min-width:1280px;position:relative;}\n",
      ".layout.jsx-2152025134 *{box-sizing:border-box;}\n",
      ".pop.jsx-2152025134{position:fixed;right:50%;bottom:37px;-webkit-transform:translateX(700px);-ms-transform:translateX(700px);transform:translateX(700px);width:36px;font-size:0;text-align:center;box-shadow:0 0 10px 0 rgba(0,0,0,0.06);;}\n",
      ".pop.bottom.jsx-2152025134{position:absolute;bottom:407px;}\n",
      ".pop.jsx-2152025134 button.jsx-2152025134{margin:0;padding:0;border:0;outline:none;display:block;width:100%;font-size:11px;line-height:12px;background-color:#fff;color:#848A94;}\n",
      ".pop.jsx-2152025134 button.jsx-2152025134 .hover-text.jsx-2152025134{display:none;}\n",
      ".pop.jsx-2152025134 button.jsx-2152025134:hover{background-color:#3B87EB;color:#fff;}\n",
      ".pop.jsx-2152025134 button.jsx-2152025134:hover .hover-text.jsx-2152025134{display:block;}\n",
      ".pop.jsx-2152025134 button.jsx-2152025134:hover svg{display:none;}\n",
      ".pop.jsx-2152025134 .top.jsx-2152025134{position:absolute;top:0;z-index:1;-webkit-transition:top 0.1s;transition:top 0.1s;box-shadow:0 -4 10px 0 rgba(0,0,0,0.06);;}\n",
      ".pop.jsx-2152025134 .top.show.jsx-2152025134{top:-41px;}\n",
      ".pop.jsx-2152025134 .old-version.jsx-2152025134{z-index:10;position:relative;}\n",
      ".pop.jsx-2152025134 .feedback.jsx-2152025134,.pop.jsx-2152025134 .top.jsx-2152025134,.pop.jsx-2152025134 .old-version.jsx-2152025134{height:41px;border-bottom:1px solid #F2F4F7;}\n",
      ".pop.jsx-2152025134 .feedback.jsx-2152025134 svg path,.pop.jsx-2152025134 .top.jsx-2152025134 svg path,.pop.jsx-2152025134 .old-version.jsx-2152025134 svg path{fill:#848A94;}\n",
      ".old-version.jsx-2152025134 div.jsx-2152025134{width:24px;line-height:14px;margin:0 auto;}\n",
      ".close.jsx-2152025134{height:30px;line-height:30px;}\n",
      ".close.jsx-2152025134 svg path{fill:#848A94;}\n",
      ".close.jsx-2152025134:hover svg path{fill:#fff;}</style><style id=\"__jsx-192017356\">.header.jsx-192017356{background:#0C101C;width:100%;height:80px;line-height:80px;position:fixed;top:0;left:0;z-index:99;}\n",
      ".header-main.jsx-192017356{width:1280px;height:100%;margin:0 auto;}\n",
      ".logo-link.jsx-192017356{display:inline-block;height:49px;vertical-align:middle;}\n",
      ".setting-container.jsx-192017356{color:#717A9A;}\n",
      ".setting-container.jsx-192017356:hover{color:#3B87EB;}\n",
      ".nav.jsx-192017356{display:inline-block;font-size:12px;margin-left:41px;height:100%;vertical-align:top;float:right;}\n",
      ".nav-item-container.jsx-192017356{position:relative;display:inline-block;vertical-align:bottom;height:60px;line-height:9px;padding:0 15px;}\n",
      ".nav-item-container.jsx-192017356 a.jsx-192017356{color:#717A9A;}\n",
      ".nav-item-container.jsx-192017356:hover a.jsx-192017356{color:#3B87EB;}\n",
      ".nav-item-container.jsx-192017356 div.jsx-192017356{line-height:12px;}\n",
      ".nav-item-container.jsx-192017356 .open-time-tip-content.jsx-192017356{line-height:16px;}\n",
      ".nav-list.jsx-192017356{display:inline-block;height:100%;}\n",
      ".nav-list.jsx-192017356 .nav-list-item.jsx-192017356{display:inline-block;text-align:center;height:100%;}\n",
      ".nav-list.jsx-192017356 .nav-list-item.jsx-192017356 .nav-list-item-icon{margin-bottom:6px;}\n",
      ".golden.jsx-192017356{color:#B09660;}\n",
      ".user-menu.jsx-192017356{position:absolute;top:60px;right:-60px;display:none;}\n",
      ".user-menu.show.jsx-192017356{display:block;}\n",
      ".menu.jsx-192017356{position:absolute;top:60px;left:50%;-webkit-transform:translateX(-50%);-ms-transform:translateX(-50%);transform:translateX(-50%);display:none;}\n",
      ".menu.show.jsx-192017356{display:block\n"
     ]
    }
   ],
   "source": [
    "import requests\n",
    "url = 'http://www.aicoin.cn/'\n",
    "\n",
    "headers = {\n",
    "    'Accept': 'text/html,application/xhtml+xml,application/xml;q=0.9,image/webp,image/apng,*/*;q=0.8,application/signed-exchange;v=b3;q=0.9',\n",
    "    'Accept-Encoding': 'gzip, deflate, br',\n",
    "    'Accept-Language': 'zh-TW,zh;q=0.9,en-US;q=0.8,en;q=0.7',\n",
    "    'Connection': 'keep-alive',\n",
    "    'Host': 'www.aicoin.cn',\n",
    "    'Sec-Fetch-Mode': 'navigate',\n",
    "    'Sec-Fetch-Site': 'none',\n",
    "    'Upgrade-Insecure-Requests': '1',\n",
    "    'User-Agent': 'Mozilla/5.0 (Macintosh; Intel Mac OS X 10_15_2) AppleWebKit/537.36 (KHTML, like Gecko) Chrome/79.0.3945.88 Safari/537.36'\n",
    "}\n",
    "\n",
    "r = requests.get(url, headers=headers)\n",
    "r.encoding='utf-8'\n",
    "print(r.text[0:6000])"
   ]
  },
  {
   "cell_type": "code",
   "execution_count": null,
   "metadata": {},
   "outputs": [],
   "source": []
  }
 ],
 "metadata": {
  "kernelspec": {
   "display_name": "Python 3",
   "language": "python",
   "name": "python3"
  },
  "language_info": {
   "codemirror_mode": {
    "name": "ipython",
    "version": 3
   },
   "file_extension": ".py",
   "mimetype": "text/x-python",
   "name": "python",
   "nbconvert_exporter": "python",
   "pygments_lexer": "ipython3",
   "version": "3.7.7"
  }
 },
 "nbformat": 4,
 "nbformat_minor": 2
}
