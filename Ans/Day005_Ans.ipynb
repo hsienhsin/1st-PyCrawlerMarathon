{
 "cells": [
  {
   "cell_type": "markdown",
   "metadata": {},
   "source": [
    "# API 資料串接 - 以 Dcard API 實作範例\n",
    "\n",
    "* 了解 Dcard API 使用方式與回傳內容\n",
    "* 撰寫程式存取 API 且解析 JSON 格式資料\n"
   ]
  },
  {
   "cell_type": "markdown",
   "metadata": {},
   "source": [
    "## 作業目標\n",
    "\n",
    "* 請利用 API: https://www.dcard.tw/_api/forums/pet/posts?popular=true 回答下列問題：\n",
    "\n",
    "1. 這個 API 一次會回傳幾筆資料？每一筆資料包含哪些欄位？\n",
    "2. 取出每一筆資料的「標題」、「貼文時間」、「留言人數」、「按讚人數」\n",
    "3. 計算熱門/非熱門文章的「平均留言人數」與「平均按讚人數」"
   ]
  },
  {
   "cell_type": "code",
   "execution_count": 4,
   "metadata": {},
   "outputs": [
    {
     "name": "stdout",
     "output_type": "stream",
     "text": [
      "30\n"
     ]
    }
   ],
   "source": [
    "# 1. 這個 API 一次會回傳幾筆資料？每一筆資料包含哪些欄位？\n",
    "\n",
    "import requests\n",
    "r = requests.get('https://www.dcard.tw/_api/forums/pet/posts?popular=true')\n",
    "response = r.text\n",
    "\n",
    "import json\n",
    "data = json.loads(response)\n",
    "\n",
    "print(len(data))"
   ]
  },
  {
   "cell_type": "code",
   "execution_count": 5,
   "metadata": {},
   "outputs": [
    {
     "name": "stdout",
     "output_type": "stream",
     "text": [
      "沒有準備好以下幾點，不要輕易養寵物。\n",
      "2020-05-28T08:13:23.286Z\n",
      "80\n",
      "838\n",
      "#影 18🈲️/這種寵物直播怎麼都沒有人去檢舉\n",
      "2020-05-28T15:35:51.291Z\n",
      "28\n",
      "146\n",
      "領養回來6個月大的米克斯走丟，賞金1萬元台幣\n",
      "2020-05-28T09:01:03.643Z\n",
      "10\n",
      "79\n",
      "同學!!!!你的貓貓\n",
      "2020-05-28T08:10:16.912Z\n",
      "1\n",
      "70\n",
      "哈士奇天使的笑容\n",
      "2020-05-28T03:09:12.891Z\n",
      "9\n",
      "68\n",
      "成為了鏟屎官的一員\n",
      "2020-05-27T23:49:46.472Z\n",
      "4\n",
      "65\n",
      "#分享 #柴犬 呆萌的樣子\n",
      "2020-05-28T06:46:36.705Z\n",
      "5\n",
      "21\n",
      "堅強的阿豆目鴿鴿\n",
      "2020-05-28T16:29:58.726Z\n",
      "1\n",
      "16\n",
      "不喜翻回家！\n",
      "2020-05-28T16:25:54.582Z\n",
      "4\n",
      "16\n",
      "看到這個我只想說.....\n",
      "2020-05-28T10:13:39.781Z\n",
      "12\n",
      "16\n",
      "送養文\n",
      "2020-05-28T07:00:44.654Z\n",
      "4\n",
      "12\n",
      "睡鼠🐿️👶\n",
      "2020-05-28T06:10:15.831Z\n",
      "0\n",
      "12\n",
      "#台北 獵奇萌寵咖啡廳\n",
      "2020-05-28T07:41:10.504Z\n",
      "3\n",
      "10\n",
      "超愛拖鞋的貓～無解藥\n",
      "2020-05-28T09:20:58.758Z\n",
      "2\n",
      "8\n",
      "你可以睡好看一點嗎\n",
      "2020-05-28T14:34:46.167Z\n",
      "1\n",
      "7\n",
      "尋鳥啟示\n",
      "2020-05-28T10:24:07.594Z\n",
      "2\n",
      "7\n",
      "無意間會賣萌的貓貓\n",
      "2020-05-29T05:10:41.912Z\n",
      "1\n",
      "6\n",
      "幫貓做了這個\n",
      "2020-05-29T00:03:07.110Z\n",
      "0\n",
      "6\n",
      "比我還會尿床的貓\n",
      "2020-05-28T17:44:32.509Z\n",
      "4\n",
      "6\n",
      "有食物就是我的毛爸爸\n",
      "2020-05-28T07:27:08.451Z\n",
      "0\n",
      "6\n",
      "下雨過後長恐龍🦖\n",
      "2020-05-28T06:18:18.128Z\n",
      "9\n",
      "6\n",
      "兩隻貓咪是打架還是在玩😭\n",
      "2020-05-28T02:48:56.346Z\n",
      "14\n",
      "6\n",
      "求推薦寵物推車\n",
      "2020-05-28T18:18:23.294Z\n",
      "6\n",
      "4\n",
      "家裡的新寵物-赤腹松鼠\n",
      "2020-05-29T05:28:50.898Z\n",
      "0\n",
      "3\n",
      "看得到吃不到\n",
      "2020-05-28T18:24:11.714Z\n",
      "1\n",
      "3\n",
      "毛小孩零嘴小調查🐈🐶❤️\n",
      "2020-05-28T15:42:47.298Z\n",
      "1\n",
      "3\n",
      "我是誰？\n",
      "2020-05-28T15:21:33.143Z\n",
      "0\n",
      "3\n",
      "#代發 尋貓啟事—明德/石牌\n",
      "2020-05-28T08:23:11.527Z\n",
      "0\n",
      "3\n",
      "對不起..我好絕望..\n",
      "2020-05-28T02:30:04.809Z\n",
      "10\n",
      "3\n",
      "療癒小公主\n",
      "2020-05-29T01:53:51.066Z\n",
      "0\n",
      "2\n"
     ]
    }
   ],
   "source": [
    "# 2. 取出每一筆資料的「標題」、「貼文時間」、「留言人數」、「按讚人數」\n",
    "\n",
    "for d in data:\n",
    "    print(d['title'])\n",
    "    print(d['createdAt'])\n",
    "    print(d['commentCount'])\n",
    "    print(d['likeCount'])"
   ]
  },
  {
   "cell_type": "code",
   "execution_count": 7,
   "metadata": {},
   "outputs": [
    {
     "name": "stdout",
     "output_type": "stream",
     "text": [
      "3.4 17.766666666666666\n",
      "6.1 42.2\n"
     ]
    }
   ],
   "source": [
    "# 3. 計算熱門/非熱門文章的「平均留言人數」與「平均按讚人數」\n",
    "\n",
    "commentCount = 0\n",
    "likeCount = 0\n",
    "for d in data:\n",
    "    commentCount += d['commentCount']\n",
    "    likeCount += d['likeCount']\n",
    "\n",
    "print(commentCount/len(data), likeCount/len(data))\n",
    "\n",
    "r = requests.get('https://www.dcard.tw/_api/forums/pet/posts?popular=false')\n",
    "response = r.text\n",
    "data = json.loads(response)\n",
    "commentCount = 0\n",
    "likeCount = 0\n",
    "for d in data:\n",
    "    commentCount += d['commentCount']\n",
    "    likeCount += d['likeCount']\n",
    "\n",
    "print(commentCount/len(data), likeCount/len(data))\n",
    "    "
   ]
  },
  {
   "cell_type": "code",
   "execution_count": null,
   "metadata": {},
   "outputs": [],
   "source": []
  },
  {
   "cell_type": "code",
   "execution_count": null,
   "metadata": {},
   "outputs": [],
   "source": []
  }
 ],
 "metadata": {
  "kernelspec": {
   "display_name": "Python 3",
   "language": "python",
   "name": "python3"
  },
  "language_info": {
   "codemirror_mode": {
    "name": "ipython",
    "version": 3
   },
   "file_extension": ".py",
   "mimetype": "text/x-python",
   "name": "python",
   "nbconvert_exporter": "python",
   "pygments_lexer": "ipython3",
   "version": "3.7.7"
  }
 },
 "nbformat": 4,
 "nbformat_minor": 2
}
